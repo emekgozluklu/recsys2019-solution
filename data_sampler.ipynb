{
 "cells": [
  {
   "cell_type": "markdown",
   "id": "5e3f12ee",
   "metadata": {},
   "source": [
    "## Data Sampling\n",
    "\n",
    "This module samples the data into a subset for resource limitations.\n",
    "\n",
    "1. Check for valid session which contains clickout reference in its impression list\n",
    "2. Add new fields to the data for different actions and reference types\n",
    "3. Sample the data into a smaller dataset which considers first 50K sessions"
   ]
  },
  {
   "cell_type": "markdown",
   "id": "c4e31614",
   "metadata": {},
   "source": [
    "#### Sample the Data"
   ]
  },
  {
   "cell_type": "markdown",
   "id": "e242e5d3",
   "metadata": {},
   "source": [
    "##### Reading Data"
   ]
  },
  {
   "cell_type": "code",
   "execution_count": 23,
   "id": "4148c754",
   "metadata": {},
   "outputs": [],
   "source": [
    "import os\n",
    "import pandas as pd\n",
    "import numpy as np"
   ]
  },
  {
   "cell_type": "code",
   "execution_count": 26,
   "id": "14be0f0e",
   "metadata": {},
   "outputs": [
    {
     "name": "stdout",
     "output_type": "stream",
     "text": [
      "Reading data...\n",
      "Number of sessions:  910683\n",
      "Labeling invalid sessions...\n"
     ]
    }
   ],
   "source": [
    "TAKE_N_SESSIONS = 50000\n",
    "DATA_PATH = os.path.join(\"data\")  # change it with your data folder\n",
    "WRITE_PATH = os.path.join(\"data\", \"sampled\")\n",
    "\n",
    "try:\n",
    "    os.mkdir(WRITE_PATH)\n",
    "except FileExistsError:\n",
    "    pass\n",
    "\n",
    "train_filepath = os.path.join(DATA_PATH, \"train.csv\")\n",
    "test_filepath = os.path.join(DATA_PATH, \"test.csv\")\n",
    "\n",
    "print(\"Reading data...\")\n",
    "raw_train_data = pd.read_csv(train_filepath)\n",
    "raw_train_data[\"session_valid\"] = 1\n",
    "\n",
    "all_session_ids = raw_train_data['session_id'].drop_duplicates()\n",
    "\n",
    "print(\"Number of sessions: \", len(all_session_ids))\n",
    "\n",
    "sampled_session_ids = all_session_ids[:TAKE_N_SESSIONS]  # pick the session id's that will be used\n",
    "sampled_raw_train_data = raw_train_data.loc[raw_train_data['session_id'].isin(sampled_session_ids)]  # apply filtering\n",
    "\n",
    "print(\"Labeling invalid sessions...\")\n",
    "invalid_sess=[]\n",
    "sessions = []\n",
    "\n",
    "for i,sess in sampled_raw_train_data.groupby(\"session_id\"):\n",
    "    sessions.append(i)\n",
    "    session_clickouts = sess[sess[\"action_type\"] == \"clickout item\"]\n",
    "    if len(session_clickouts) == 0:\n",
    "        invalid_sess.append(i)\n",
    "        continue\n",
    "\n",
    "    for sess_id, co in session_clickouts.iterrows():\n",
    "        if co[\"reference\"] not in co[\"impressions\"].split(\"|\"):\n",
    "            invalid_sess.append(i)\n",
    "            break\n",
    "\n",
    "sampled_raw_train_data.loc[sampled_raw_train_data[\"session_id\"].isin(invalid_sess), \"session_valid\"] = 0\n",
    "\n",
    "sampled_raw_train_data.to_csv(os.path.join(WRITE_PATH, \"train_sample.csv\"))  # write selected sessions to a csv"
   ]
  },
  {
   "cell_type": "markdown",
   "id": "8276f14c",
   "metadata": {},
   "source": [
    "#### Understand the Data "
   ]
  },
  {
   "cell_type": "code",
   "execution_count": 9,
   "id": "de4980ee",
   "metadata": {},
   "outputs": [
    {
     "data": {
      "text/html": [
       "<div>\n",
       "<style scoped>\n",
       "    .dataframe tbody tr th:only-of-type {\n",
       "        vertical-align: middle;\n",
       "    }\n",
       "\n",
       "    .dataframe tbody tr th {\n",
       "        vertical-align: top;\n",
       "    }\n",
       "\n",
       "    .dataframe thead th {\n",
       "        text-align: right;\n",
       "    }\n",
       "</style>\n",
       "<table border=\"1\" class=\"dataframe\">\n",
       "  <thead>\n",
       "    <tr style=\"text-align: right;\">\n",
       "      <th></th>\n",
       "      <th>user_id</th>\n",
       "      <th>session_id</th>\n",
       "      <th>timestamp</th>\n",
       "      <th>step</th>\n",
       "      <th>action_type</th>\n",
       "      <th>reference</th>\n",
       "      <th>platform</th>\n",
       "      <th>city</th>\n",
       "      <th>device</th>\n",
       "      <th>current_filters</th>\n",
       "      <th>impressions</th>\n",
       "      <th>prices</th>\n",
       "    </tr>\n",
       "  </thead>\n",
       "  <tbody>\n",
       "    <tr>\n",
       "      <th>0</th>\n",
       "      <td>00RL8Z82B2Z1</td>\n",
       "      <td>aff3928535f48</td>\n",
       "      <td>1541037460</td>\n",
       "      <td>1</td>\n",
       "      <td>search for poi</td>\n",
       "      <td>Newtown</td>\n",
       "      <td>AU</td>\n",
       "      <td>Sydney, Australia</td>\n",
       "      <td>mobile</td>\n",
       "      <td>NaN</td>\n",
       "      <td>NaN</td>\n",
       "      <td>NaN</td>\n",
       "    </tr>\n",
       "    <tr>\n",
       "      <th>1</th>\n",
       "      <td>00RL8Z82B2Z1</td>\n",
       "      <td>aff3928535f48</td>\n",
       "      <td>1541037522</td>\n",
       "      <td>2</td>\n",
       "      <td>interaction item image</td>\n",
       "      <td>666856</td>\n",
       "      <td>AU</td>\n",
       "      <td>Sydney, Australia</td>\n",
       "      <td>mobile</td>\n",
       "      <td>NaN</td>\n",
       "      <td>NaN</td>\n",
       "      <td>NaN</td>\n",
       "    </tr>\n",
       "    <tr>\n",
       "      <th>2</th>\n",
       "      <td>00RL8Z82B2Z1</td>\n",
       "      <td>aff3928535f48</td>\n",
       "      <td>1541037522</td>\n",
       "      <td>3</td>\n",
       "      <td>interaction item image</td>\n",
       "      <td>666856</td>\n",
       "      <td>AU</td>\n",
       "      <td>Sydney, Australia</td>\n",
       "      <td>mobile</td>\n",
       "      <td>NaN</td>\n",
       "      <td>NaN</td>\n",
       "      <td>NaN</td>\n",
       "    </tr>\n",
       "    <tr>\n",
       "      <th>3</th>\n",
       "      <td>00RL8Z82B2Z1</td>\n",
       "      <td>aff3928535f48</td>\n",
       "      <td>1541037532</td>\n",
       "      <td>4</td>\n",
       "      <td>interaction item image</td>\n",
       "      <td>666856</td>\n",
       "      <td>AU</td>\n",
       "      <td>Sydney, Australia</td>\n",
       "      <td>mobile</td>\n",
       "      <td>NaN</td>\n",
       "      <td>NaN</td>\n",
       "      <td>NaN</td>\n",
       "    </tr>\n",
       "    <tr>\n",
       "      <th>4</th>\n",
       "      <td>00RL8Z82B2Z1</td>\n",
       "      <td>aff3928535f48</td>\n",
       "      <td>1541037532</td>\n",
       "      <td>5</td>\n",
       "      <td>interaction item image</td>\n",
       "      <td>109038</td>\n",
       "      <td>AU</td>\n",
       "      <td>Sydney, Australia</td>\n",
       "      <td>mobile</td>\n",
       "      <td>NaN</td>\n",
       "      <td>NaN</td>\n",
       "      <td>NaN</td>\n",
       "    </tr>\n",
       "  </tbody>\n",
       "</table>\n",
       "</div>"
      ],
      "text/plain": [
       "        user_id     session_id   timestamp  step             action_type  \\\n",
       "0  00RL8Z82B2Z1  aff3928535f48  1541037460     1          search for poi   \n",
       "1  00RL8Z82B2Z1  aff3928535f48  1541037522     2  interaction item image   \n",
       "2  00RL8Z82B2Z1  aff3928535f48  1541037522     3  interaction item image   \n",
       "3  00RL8Z82B2Z1  aff3928535f48  1541037532     4  interaction item image   \n",
       "4  00RL8Z82B2Z1  aff3928535f48  1541037532     5  interaction item image   \n",
       "\n",
       "  reference platform               city  device current_filters impressions  \\\n",
       "0   Newtown       AU  Sydney, Australia  mobile             NaN         NaN   \n",
       "1    666856       AU  Sydney, Australia  mobile             NaN         NaN   \n",
       "2    666856       AU  Sydney, Australia  mobile             NaN         NaN   \n",
       "3    666856       AU  Sydney, Australia  mobile             NaN         NaN   \n",
       "4    109038       AU  Sydney, Australia  mobile             NaN         NaN   \n",
       "\n",
       "  prices  \n",
       "0    NaN  \n",
       "1    NaN  \n",
       "2    NaN  \n",
       "3    NaN  \n",
       "4    NaN  "
      ]
     },
     "execution_count": 9,
     "metadata": {},
     "output_type": "execute_result"
    }
   ],
   "source": [
    "sampled_raw_train_data.head()"
   ]
  },
  {
   "cell_type": "code",
   "execution_count": 10,
   "id": "5cfa5f18",
   "metadata": {},
   "outputs": [
    {
     "data": {
      "text/html": [
       "<div>\n",
       "<style scoped>\n",
       "    .dataframe tbody tr th:only-of-type {\n",
       "        vertical-align: middle;\n",
       "    }\n",
       "\n",
       "    .dataframe tbody tr th {\n",
       "        vertical-align: top;\n",
       "    }\n",
       "\n",
       "    .dataframe thead th {\n",
       "        text-align: right;\n",
       "    }\n",
       "</style>\n",
       "<table border=\"1\" class=\"dataframe\">\n",
       "  <thead>\n",
       "    <tr style=\"text-align: right;\">\n",
       "      <th></th>\n",
       "      <th>user_id</th>\n",
       "      <th>session_id</th>\n",
       "      <th>timestamp</th>\n",
       "      <th>step</th>\n",
       "      <th>action_type</th>\n",
       "      <th>reference</th>\n",
       "      <th>platform</th>\n",
       "      <th>city</th>\n",
       "      <th>device</th>\n",
       "      <th>current_filters</th>\n",
       "      <th>impressions</th>\n",
       "      <th>prices</th>\n",
       "    </tr>\n",
       "  </thead>\n",
       "  <tbody>\n",
       "    <tr>\n",
       "      <th>15932987</th>\n",
       "      <td>ZYNMLE3MV3LK</td>\n",
       "      <td>62728015bec05</td>\n",
       "      <td>1541544490</td>\n",
       "      <td>15</td>\n",
       "      <td>interaction item image</td>\n",
       "      <td>6617798</td>\n",
       "      <td>PT</td>\n",
       "      <td>Paris, France</td>\n",
       "      <td>desktop</td>\n",
       "      <td>NaN</td>\n",
       "      <td>NaN</td>\n",
       "      <td>NaN</td>\n",
       "    </tr>\n",
       "    <tr>\n",
       "      <th>15932988</th>\n",
       "      <td>ZYNMLE3MV3LK</td>\n",
       "      <td>62728015bec05</td>\n",
       "      <td>1541544491</td>\n",
       "      <td>16</td>\n",
       "      <td>clickout item</td>\n",
       "      <td>6617798</td>\n",
       "      <td>PT</td>\n",
       "      <td>Paris, France</td>\n",
       "      <td>desktop</td>\n",
       "      <td>Focus on Distance</td>\n",
       "      <td>6617798|1263420|9567886|1161323|149768|1890735...</td>\n",
       "      <td>58|96|55|75|90|60|233|104|150|145|328|207|150|...</td>\n",
       "    </tr>\n",
       "    <tr>\n",
       "      <th>15932989</th>\n",
       "      <td>ZYNMLE3MV3LK</td>\n",
       "      <td>62728015bec05</td>\n",
       "      <td>1541544540</td>\n",
       "      <td>17</td>\n",
       "      <td>clickout item</td>\n",
       "      <td>2712342</td>\n",
       "      <td>PT</td>\n",
       "      <td>Paris, France</td>\n",
       "      <td>desktop</td>\n",
       "      <td>Focus on Distance</td>\n",
       "      <td>6617798|1263420|9567886|1161323|149768|1890735...</td>\n",
       "      <td>58|96|55|75|90|60|233|104|150|145|328|207|150|...</td>\n",
       "    </tr>\n",
       "    <tr>\n",
       "      <th>15932990</th>\n",
       "      <td>ZYNMLE3MV3LK</td>\n",
       "      <td>62728015bec05</td>\n",
       "      <td>1541544967</td>\n",
       "      <td>18</td>\n",
       "      <td>change of sort order</td>\n",
       "      <td>interaction sort button</td>\n",
       "      <td>PT</td>\n",
       "      <td>Paris, France</td>\n",
       "      <td>desktop</td>\n",
       "      <td>NaN</td>\n",
       "      <td>NaN</td>\n",
       "      <td>NaN</td>\n",
       "    </tr>\n",
       "    <tr>\n",
       "      <th>15932991</th>\n",
       "      <td>ZYNMLE3MV3LK</td>\n",
       "      <td>62728015bec05</td>\n",
       "      <td>1541544973</td>\n",
       "      <td>19</td>\n",
       "      <td>clickout item</td>\n",
       "      <td>1161323</td>\n",
       "      <td>PT</td>\n",
       "      <td>Paris, France</td>\n",
       "      <td>desktop</td>\n",
       "      <td>Focus on Distance</td>\n",
       "      <td>6617798|1263420|9567886|1161323|149768|1890735...</td>\n",
       "      <td>58|96|55|75|90|60|233|104|150|145|328|207|150|...</td>\n",
       "    </tr>\n",
       "  </tbody>\n",
       "</table>\n",
       "</div>"
      ],
      "text/plain": [
       "               user_id     session_id   timestamp  step  \\\n",
       "15932987  ZYNMLE3MV3LK  62728015bec05  1541544490    15   \n",
       "15932988  ZYNMLE3MV3LK  62728015bec05  1541544491    16   \n",
       "15932989  ZYNMLE3MV3LK  62728015bec05  1541544540    17   \n",
       "15932990  ZYNMLE3MV3LK  62728015bec05  1541544967    18   \n",
       "15932991  ZYNMLE3MV3LK  62728015bec05  1541544973    19   \n",
       "\n",
       "                     action_type                reference platform  \\\n",
       "15932987  interaction item image                  6617798       PT   \n",
       "15932988           clickout item                  6617798       PT   \n",
       "15932989           clickout item                  2712342       PT   \n",
       "15932990    change of sort order  interaction sort button       PT   \n",
       "15932991           clickout item                  1161323       PT   \n",
       "\n",
       "                   city   device    current_filters  \\\n",
       "15932987  Paris, France  desktop                NaN   \n",
       "15932988  Paris, France  desktop  Focus on Distance   \n",
       "15932989  Paris, France  desktop  Focus on Distance   \n",
       "15932990  Paris, France  desktop                NaN   \n",
       "15932991  Paris, France  desktop  Focus on Distance   \n",
       "\n",
       "                                                impressions  \\\n",
       "15932987                                                NaN   \n",
       "15932988  6617798|1263420|9567886|1161323|149768|1890735...   \n",
       "15932989  6617798|1263420|9567886|1161323|149768|1890735...   \n",
       "15932990                                                NaN   \n",
       "15932991  6617798|1263420|9567886|1161323|149768|1890735...   \n",
       "\n",
       "                                                     prices  \n",
       "15932987                                                NaN  \n",
       "15932988  58|96|55|75|90|60|233|104|150|145|328|207|150|...  \n",
       "15932989  58|96|55|75|90|60|233|104|150|145|328|207|150|...  \n",
       "15932990                                                NaN  \n",
       "15932991  58|96|55|75|90|60|233|104|150|145|328|207|150|...  "
      ]
     },
     "execution_count": 10,
     "metadata": {},
     "output_type": "execute_result"
    }
   ],
   "source": [
    "sampled_raw_train_data.tail()"
   ]
  },
  {
   "cell_type": "markdown",
   "id": "a4873acc",
   "metadata": {},
   "source": [
    "#### Read Sampled Data"
   ]
  },
  {
   "cell_type": "code",
   "execution_count": 5,
   "id": "3e706348",
   "metadata": {},
   "outputs": [],
   "source": [
    "sampled_raw_train_data = pd.read_csv(os.path.join(\"data\", \"sampled\", \"train_sample.csv\"), index_col=0)"
   ]
  },
  {
   "cell_type": "markdown",
   "id": "c4edec11",
   "metadata": {},
   "source": [
    "#### Check Valid Sessions"
   ]
  },
  {
   "cell_type": "code",
   "execution_count": 6,
   "id": "a91b75eb",
   "metadata": {},
   "outputs": [
    {
     "name": "stdout",
     "output_type": "stream",
     "text": [
      "0               search for poi\n",
      "1       interaction item image\n",
      "13               clickout item\n",
      "16       interaction item info\n",
      "62      interaction item deals\n",
      "116     search for destination\n",
      "125           filter selection\n",
      "178    interaction item rating\n",
      "179            search for item\n",
      "185       change of sort order\n",
      "Name: action_type, dtype: object\n"
     ]
    }
   ],
   "source": [
    "actions = sampled_raw_train_data['action_type'].drop_duplicates()\n",
    "print(actions)  # first occurence and name of the action"
   ]
  },
  {
   "cell_type": "code",
   "execution_count": null,
   "id": "6a1bb76d",
   "metadata": {},
   "outputs": [],
   "source": [
    "click_actions = sampled_raw_train_data[sampled_raw_train_data['action_type'] == \"clickout item\"]\n",
    "\n",
    "invalid_click_actions = click_actions[click_actions[\"reference\"].isin(click_actions[\"impressions\"].apply(lambda x: x.split(\"|\")))]\n",
    "invalid_click_actions"
   ]
  },
  {
   "cell_type": "code",
   "execution_count": 43,
   "id": "d7921be5",
   "metadata": {},
   "outputs": [
    {
     "name": "stdout",
     "output_type": "stream",
     "text": [
      "['641a409c90fac', 'eeaed44183a45', '661c65d405426', 'f5033775f3c82', '05010f12ea5d3', '08b88abc663e9', 'fe080f62523b5', '6762189ecabb6', '806fdfd02e112', '70efab42b3841', '70efab42b3841', '3249bf623f5ca', '3249bf623f5ca', '3249bf623f5ca', '3249bf623f5ca', '3249bf623f5ca', '3249bf623f5ca', '3249bf623f5ca', '3249bf623f5ca', '3249bf623f5ca', '3249bf623f5ca', '3249bf623f5ca', '3249bf623f5ca', 'afc0c14fc2882', '2bafb1904f934', '2bafb1904f934', '8d384825cf756', '8d384825cf756', '8d384825cf756', '8d384825cf756', '71730a9777f97', 'cabd8159fa194', '147d869f28713', 'd423b27bd6679', '8e3591d8fb22d', '8e3591d8fb22d', '8e3591d8fb22d', '8e3591d8fb22d', '8e3591d8fb22d', 'cb0086dfcd935', '943422579a32a', 'f8728b92e54c3', 'f8728b92e54c3', '9771f9ffc139d', '9771f9ffc139d', 'd3a73f5bf054d', '1b18332b0a514', '0798a2b759892', '88e1613844b19', '72adeafe395b0']\n"
     ]
    }
   ],
   "source": [
    "invalid_session_ids = list()\n",
    "\n",
    "for action in click_actions.to_numpy():\n",
    "    session_id = action[2]\n",
    "    reference = action[6]\n",
    "    impressions = action[-1]\n",
    "    \n",
    "    if reference not in impressions:\n",
    "        invalid_session_ids.append(session_id)\n",
    "        \n",
    "print(invalid_session_ids)"
   ]
  },
  {
   "cell_type": "code",
   "execution_count": 46,
   "id": "87195827",
   "metadata": {},
   "outputs": [
    {
     "name": "stdout",
     "output_type": "stream",
     "text": [
      "(879579, 13)\n",
      "(878532, 13)\n"
     ]
    }
   ],
   "source": [
    "print(sampled_raw_train_data.shape)\n",
    "for sess_id in invalid_session_ids:\n",
    "    sampled_raw_train_data.drop(sampled_raw_train_data[sampled_raw_train_data['session_id'] == sess_id].index, inplace=True)\n",
    "print(sampled_raw_train_data.shape)"
   ]
  },
  {
   "cell_type": "markdown",
   "id": "277a630d",
   "metadata": {},
   "source": [
    "#### Check Valid Sessions "
   ]
  },
  {
   "cell_type": "code",
   "execution_count": 23,
   "id": "d5aae5b4",
   "metadata": {},
   "outputs": [
    {
     "ename": "ValueError",
     "evalue": "The truth value of a Series is ambiguous. Use a.empty, a.bool(), a.item(), a.any() or a.all().",
     "output_type": "error",
     "traceback": [
      "\u001b[1;31m---------------------------------------------------------------------------\u001b[0m",
      "\u001b[1;31mValueError\u001b[0m                                Traceback (most recent call last)",
      "\u001b[1;32m<ipython-input-23-8d1a44de958e>\u001b[0m in \u001b[0;36m<module>\u001b[1;34m\u001b[0m\n\u001b[1;32m----> 1\u001b[1;33m \u001b[0msampled_raw_train_data\u001b[0m\u001b[1;33m[\u001b[0m\u001b[1;33m(\u001b[0m\u001b[0msampled_raw_train_data\u001b[0m\u001b[1;33m[\u001b[0m\u001b[1;34m\"session_id\"\u001b[0m\u001b[1;33m]\u001b[0m \u001b[1;32min\u001b[0m \u001b[0minvalid_session_ids\u001b[0m\u001b[1;33m)\u001b[0m\u001b[1;33m.\u001b[0m\u001b[0many\u001b[0m\u001b[1;33m(\u001b[0m\u001b[1;33m)\u001b[0m\u001b[1;33m]\u001b[0m\u001b[1;33m\u001b[0m\u001b[1;33m\u001b[0m\u001b[0m\n\u001b[0m",
      "\u001b[1;32m~\\Desktop\\python\\recommender\\RecSys2019\\venv\\lib\\site-packages\\pandas\\core\\generic.py\u001b[0m in \u001b[0;36m__nonzero__\u001b[1;34m(self)\u001b[0m\n\u001b[0;32m   1440\u001b[0m     \u001b[1;33m@\u001b[0m\u001b[0mfinal\u001b[0m\u001b[1;33m\u001b[0m\u001b[1;33m\u001b[0m\u001b[0m\n\u001b[0;32m   1441\u001b[0m     \u001b[1;32mdef\u001b[0m \u001b[0m__nonzero__\u001b[0m\u001b[1;33m(\u001b[0m\u001b[0mself\u001b[0m\u001b[1;33m)\u001b[0m\u001b[1;33m:\u001b[0m\u001b[1;33m\u001b[0m\u001b[1;33m\u001b[0m\u001b[0m\n\u001b[1;32m-> 1442\u001b[1;33m         raise ValueError(\n\u001b[0m\u001b[0;32m   1443\u001b[0m             \u001b[1;34mf\"The truth value of a {type(self).__name__} is ambiguous. \"\u001b[0m\u001b[1;33m\u001b[0m\u001b[1;33m\u001b[0m\u001b[0m\n\u001b[0;32m   1444\u001b[0m             \u001b[1;34m\"Use a.empty, a.bool(), a.item(), a.any() or a.all().\"\u001b[0m\u001b[1;33m\u001b[0m\u001b[1;33m\u001b[0m\u001b[0m\n",
      "\u001b[1;31mValueError\u001b[0m: The truth value of a Series is ambiguous. Use a.empty, a.bool(), a.item(), a.any() or a.all()."
     ]
    }
   ],
   "source": [
    "\n",
    "sampled_raw_train_data[sampled_raw_train_data[\"session_id\"] in invalid_session_ids]"
   ]
  },
  {
   "cell_type": "code",
   "execution_count": 27,
   "id": "246f52de",
   "metadata": {},
   "outputs": [
    {
     "name": "stdout",
     "output_type": "stream",
     "text": [
      "<class 'str'>\n"
     ]
    }
   ],
   "source": [
    "print(type(sampled_raw_train_data['session_id'][5]))\n"
   ]
  },
  {
   "cell_type": "code",
   "execution_count": 34,
   "id": "f0fd108d",
   "metadata": {},
   "outputs": [
    {
     "name": "stdout",
     "output_type": "stream",
     "text": [
      "Empty DataFrame\n",
      "Columns: [Unnamed: 0, user_id, session_id, timestamp, step, action_type, reference, platform, city, device, current_filters, impressions, prices]\n",
      "Index: []\n"
     ]
    }
   ],
   "source": [
    "print(sampled_raw_train_data[sampled_raw_train_data['session_id'] == \"641a409c90fac\"])"
   ]
  },
  {
   "cell_type": "code",
   "execution_count": 37,
   "id": "7d0b60dc",
   "metadata": {},
   "outputs": [
    {
     "data": {
      "text/plain": [
       "0         False\n",
       "1         False\n",
       "2         False\n",
       "3         False\n",
       "4         False\n",
       "          ...  \n",
       "879574    False\n",
       "879575    False\n",
       "879576    False\n",
       "879577    False\n",
       "879578    False\n",
       "Name: session_id, Length: 878532, dtype: bool"
      ]
     },
     "execution_count": 37,
     "metadata": {},
     "output_type": "execute_result"
    }
   ],
   "source": [
    "sampled_raw_train_data['session_id'] == \"641a409c90fac\""
   ]
  },
  {
   "cell_type": "code",
   "execution_count": null,
   "id": "e957949d",
   "metadata": {},
   "outputs": [],
   "source": [
    "click_actions[\"impressions\"].apply(lambda x: x.split(\"|\"))"
   ]
  },
  {
   "cell_type": "code",
   "execution_count": 20,
   "id": "49f3f5c5",
   "metadata": {},
   "outputs": [],
   "source": [
    "invalid_sess=[]\n",
    "sessions = []\n",
    "for i,sess in sampled_raw_train_data.groupby(\"session_id\"):\n",
    "    sessions.append(i)\n",
    "    session_clickouts = sess[sess[\"action_type\"] == \"clickout item\"]\n",
    "    if len(session_clickouts) == 0:\n",
    "        invalid_sess.append(i)\n",
    "        continue\n",
    "    for sess_id, co in session_clickouts.iterrows():\n",
    "        if co[\"reference\"] not in co[\"impressions\"].split(\"|\"):\n",
    "            invalid_sess.append(i)\n",
    "            break"
   ]
  }
 ],
 "metadata": {
  "kernelspec": {
   "display_name": "venv",
   "language": "python",
   "name": "venv"
  },
  "language_info": {
   "codemirror_mode": {
    "name": "ipython",
    "version": 3
   },
   "file_extension": ".py",
   "mimetype": "text/x-python",
   "name": "python",
   "nbconvert_exporter": "python",
   "pygments_lexer": "ipython3",
   "version": "3.9.6"
  }
 },
 "nbformat": 4,
 "nbformat_minor": 5
}
